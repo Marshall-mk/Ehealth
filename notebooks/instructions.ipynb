{
 "cells": [
  {
   "cell_type": "markdown",
   "metadata": {},
   "source": [
    "## Welcome to eHealth Student Lab\n",
    "This lab is designed to help you gain experience in structuring data science projects properly. By completing these tasks, you'll learn how to write clean, reusable, and scalable code for real-world data science applications.\n",
    "\n",
    "Feel free to ask questions or consult the instructors (Tuhin and Momin) if you get stuck at any point."
   ]
  },
  {
   "cell_type": "markdown",
   "metadata": {},
   "source": [
    "### Prerequisite\n",
    "- Python\n",
    "- Git\n",
    "- vscode"
   ]
  },
  {
   "cell_type": "markdown",
   "metadata": {},
   "source": [
    "### i Setting Up the Environment\n",
    "1. **Clone the repository**:\n",
    "   ```bash\n",
    "   git clone https://github.com/Marshall-mk/Ehealth-Tutorial.git\n",
    "   cd Ehealth-Tutorial\n",
    "   ```\n",
    "2. **Create a virtual environment** (recommended):\n",
    "   ```bash\n",
    "   python -m venv myEhealth \n",
    "   source myEhealth/bin/activate  # For Linux/Mac\n",
    "   myEhealth\\Scripts\\activate  # For Windows\n",
    "   ```\n",
    "3. **Install dependencies**:\n",
    "   ```bash\n",
    "   pip install -r requirements.txt (move on to other steps if you do not see the file)\n",
    "   ```\n"
   ]
  },
  {
   "cell_type": "markdown",
   "metadata": {},
   "source": [
    "### ii Initial Exploration\n",
    "0. Open the folder \"Ehealth-Tutorial\" in vscode (or any code editor)\n",
    "1. **Navigate to the notebooks directory**:\n",
    "   The `notebooks/` folder contains a Jupyter notebooks.\n",
    "2. Open the `sample_notebook.ipynb` to see how a typical student would expeiment on a given task.\n",
    "3. Open the `notebook_to_codebase.ipynb` for instructions on how to convert a typical notebook to structured codebase.******"
   ]
  },
  {
   "cell_type": "markdown",
   "metadata": {},
   "source": [
    "### iii New Tools and Libraries\n",
    "\n",
    "- MLFlow and WandB: We will use this to track and log our experiments.\n",
    "- pipreqs: For dependencies and requirements handling.\n",
    "- ruff: For Code refactoring.\n",
    "- Omegaconf and hydra: These two will be used to manage our configuration files.\n",
    "- torch, tensorflow and sklearn: Will be use to train, finetune and evaluate our models"
   ]
  },
  {
   "cell_type": "markdown",
   "metadata": {},
   "source": [
    "**<H1 style=\"text-align:center;\">  Start of the Experiment</H1>**"
   ]
  },
  {
   "cell_type": "markdown",
   "metadata": {},
   "source": [
    "#### Explore the cloned repository, you will find that the filenames are not appropraite for the code contained in them. They are also not in the right directory. Your task will be to rename each of this files and move them to appropriate directories. "
   ]
  },
  {
   "cell_type": "markdown",
   "metadata": {},
   "source": [
    "**Step 0**\n",
    "   - Solve the trivia!\n",
    "   - Each trivia unlocks a zip file containing the codes that should be in the ```src``` directory.\n",
    "   - All answers are in lowercase!!!"
   ]
  },
  {
   "cell_type": "markdown",
   "metadata": {},
   "source": [
    "**Trivia 1**\n",
    "   - What does this image say? Use the answer to unlock the zip file named ```data$Models```\n",
    "\n",
    "\n",
    "![Image Description](1.png)"
   ]
  },
  {
   "cell_type": "markdown",
   "metadata": {},
   "source": [
    "**Trivia 2**\n",
    "   - Unscramble the word in this image. Use the answer to unlock the zip file named ```train$trainer```\n",
    "   - Hint: The hypens do matter.\n",
    "\n",
    "   \n",
    "![Image Description](2.png)"
   ]
  },
  {
   "cell_type": "markdown",
   "metadata": {},
   "source": [
    "**Trivia 3**\n",
    "   - What does this image say? Use the answer to unlock the zip file named ```others```\n",
    "   - Hint: The answer can be abbreviated.\n",
    "   \n",
    "   \n",
    "![Image Description](3.png)"
   ]
  },
  {
   "cell_type": "markdown",
   "metadata": {},
   "source": [
    "**Step 1**\n",
    "   - Move data loading code to `src/data.py`.\n",
    "   - Place model architecture code in `src/models.py`.\n",
    "   - Place model training code into `src/train.py` and `src/trainer.py`.\n",
    "   - Place model evaluation code into `src/evaluate.py`.\n",
    "   - Place image prediction code in `src/test.py`.\n",
    "   - Place utility functions into `src/utils.py`."
   ]
  },
  {
   "cell_type": "markdown",
   "metadata": {},
   "source": [
    "**Step 2** (Optional)\n",
    "   - You will now learn how to extract dependencies and create a requirements.txt file.\n",
    "   - Install pipreqs using pip\n",
    "   - In your terminal, navigate to the root folder (just inside Ehealth-Tutorial) and run `pipreqs .`.\n",
    "   - This creates a `requirements.txt` file for you which you can use to install the dependencies with the command in section i."
   ]
  },
  {
   "cell_type": "markdown",
   "metadata": {},
   "source": [
    "**Step 3** (Optional)\n",
    "   - Here you will learn how to refactor a codebase.\n",
    "   - Go back to each file, you will notice that the lines, spacing, and tabs are not well structured. We will use `ruff` to fix that!\n",
    "   - Use pip to install `ruff`\n",
    "   - Use the command (in the terminal inside Ehealth-Tutorial) `ruff format .` to refactor your codebase."
   ]
  },
  {
   "cell_type": "markdown",
   "metadata": {},
   "source": [
    "**Step 4**\n",
    "   - Run your first experiment!!!\n",
    "   - Create two folders in the root diectory, ```checkpoints``` and ```metrics```.\n",
    "   - In the terminal or command prompt, Navigate into the source directory ```src```.\n",
    "   - Start the mlflow server ``` mlflow server --host 127.0.0.1 --port 8080```\n",
    "   - In another terminal or command prompt, Navigate into the source directory ```src```.\n",
    "   - Run the experiment ```python train.py```"
   ]
  },
  {
   "cell_type": "markdown",
   "metadata": {},
   "source": [
    "**Step 5**\n",
    "   - Identify the other parameters and configuration used in the first experiment. \n",
    "   - Hint: It is set to default in a ```.yaml``` file."
   ]
  },
  {
   "cell_type": "markdown",
   "metadata": {},
   "source": [
    "**Step 6**\n",
    "   - To run your second experiment, modify the parameters.\n",
    "   - Note: You can do this directly from the command line.\n",
    "   - You can try ```python train.py model.model_name=mobilenetv3 train.batch_size=32 train.epochs=2 ```\n",
    "   - You can train multiple experiments depending on how much time you have."
   ]
  },
  {
   "cell_type": "markdown",
   "metadata": {},
   "source": [
    "**Step 7**\n",
    "   - Use mlflow to visualize your experiments\n",
    "   - ```mlflow ui```"
   ]
  }
 ],
 "metadata": {
  "kernelspec": {
   "display_name": "Python 3",
   "language": "python",
   "name": "python3"
  },
  "language_info": {
   "codemirror_mode": {
    "name": "ipython",
    "version": 3
   },
   "file_extension": ".py",
   "mimetype": "text/x-python",
   "name": "python",
   "nbconvert_exporter": "python",
   "pygments_lexer": "ipython3",
   "version": "3.11.9"
  }
 },
 "nbformat": 4,
 "nbformat_minor": 2
}
