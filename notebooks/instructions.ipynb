{
 "cells": [
  {
   "cell_type": "markdown",
   "metadata": {},
   "source": [
    "## Welcome to eHealth Student Lab\n",
    "This lab is designed to help you gain experience in structuring data science projects properly. By completing these tasks, you'll learn how to write clean, reusable, and scalable code for real-world data science applications. The prerequicites has been done for you on the laptops provided, but if you want to replicate it on your laptops, you should follow all the instructions.\n",
    "\n",
    "Feel free to ask questions or consult the instructors if you get stuck at any point."
   ]
  },
  {
   "cell_type": "markdown",
   "metadata": {},
   "source": [
    "### Prerequisite\n",
    "- Python\n",
    "- Git\n",
    "- vscode"
   ]
  },
  {
   "cell_type": "markdown",
   "metadata": {},
   "source": [
    "### i Setting Up the Environment\n",
    "1. **Clone the repository**:\n",
    "   ```bash\n",
    "   git clone https://github.com/Marshall-mk/Ehealth-Tutorial.git\n",
    "   cd Ehealth-Tutorial\n",
    "   ```\n",
    "2. **Create a virtual environment** (recommended):\n",
    "   ```bash\n",
    "   python -m venv myEhealth \n",
    "   source myEhealth/bin/activate  # For Linux/Mac\n",
    "   myEhealth\\Scripts\\activate  # For Windows\n",
    "   ```\n",
    "3. **Install dependencies**:\n",
    "   ```bash\n",
    "   pip install -r requirements.txt (move on to other steps if you do not see the file)\n",
    "   ```\n"
   ]
  },
  {
   "cell_type": "markdown",
   "metadata": {},
   "source": [
    "### ii Initial Exploration\n",
    "0. Open the folder \"Ehealth-Tutorial\" in vscode (or any code editor)\n",
    "1. **Navigate to the notebooks directory**:\n",
    "   The `notebooks/` folder contains a Jupyter notebooks.\n",
    "2. Open the `sample_notebook.ipynb` to see how a typical student would expeiment on a given task.\n",
    "3. Open the `notebook_to_codebase.ipynb` for instructions on how to convert a typical notebook to structured codebase.******"
   ]
  },
  {
   "cell_type": "markdown",
   "metadata": {},
   "source": [
    "### iii New Tools and Libraries\n",
    "\n",
    "- MLFlow and WandB: We will use this to track and log our experiments.\n",
    "- pipreqs: For dependencies and requirements handling.\n",
    "- ruff: For Code refactoring.\n",
    "- Omegaconf and hydra: These two will be used to manage our configuration files.\n",
    "- torch, tensorflow and sklearn: Will be use to train, finetune and evaluate our models"
   ]
  },
  {
   "cell_type": "markdown",
   "metadata": {},
   "source": [
    "**<H1 style=\"text-align:center;\">  Start of the Experiment</H1>**"
   ]
  },
  {
   "cell_type": "markdown",
   "metadata": {},
   "source": [
    "**Step 1** (Optional)\n",
    "   - Move data loading code to `src/data.py`.\n",
    "   - Place model architecture code in `src/models.py`.\n",
    "   - Place model training code into `src/train.py` and `src/trainer.py`.\n",
    "   - Place model evaluation code into `src/evaluate.py`.\n",
    "   - Place image prediction code in `src/test.py`.\n",
    "   - Place utility functions into `src/utils.py`."
   ]
  },
  {
   "cell_type": "markdown",
   "metadata": {},
   "source": [
    "**Step 2** (Optional)\n",
    "   - You will now learn how to extract dependencies and create a requirements.txt file.\n",
    "   - Install pipreqs using pip\n",
    "   - In your terminal, navigate to the root folder (just inside Ehealth-Tutorial) and run `pipreqs .`.\n",
    "   - This creates a `requirements.txt` file for you which you can use to install the dependencies with the command in section i."
   ]
  },
  {
   "cell_type": "markdown",
   "metadata": {},
   "source": [
    "**Step 3** (Optional)\n",
    "   - Here you will learn how to refactor a codebase.\n",
    "   - Go back to each file, you will notice that the lines, spacing, and tabs are not well structured. We will use `ruff` to fix that!\n",
    "   - Use pip to install `ruff`\n",
    "   - Use the command (in the terminal inside Ehealth-Tutorial) `ruff format .` to refactor your codebase."
   ]
  },
  {
   "cell_type": "markdown",
   "metadata": {},
   "source": [
    "**Step 4**\n",
    "   - Run your first experiment!!!\n",
    "   - Create two folders in the root diectory, ```checkpoints``` and ```metrics```. if they don't already exist.\n",
    "   - In the terminal or command prompt, Navigate into the source directory ```src```.\n",
    "   - Start the mlflow server ``` mlflow server --host 127.0.0.1 --port 8080```\n",
    "   - In another terminal or command prompt, Navigate into the source directory ```src```.\n",
    "   - Run the experiment ```python train.py```"
   ]
  },
  {
   "cell_type": "markdown",
   "metadata": {},
   "source": [
    "**Step 5**\n",
    "   - To run your second experiment, modify the parameters.\n",
    "   - Note: You can do this directly from the command line.\n",
    "   - You can try ```python train.py model.model_name=mobilenetv3 train.batch_size=32 train.epochs=2 ```\n",
    "   - You can train multiple experiments depending on how much time you have."
   ]
  },
  {
   "cell_type": "markdown",
   "metadata": {},
   "source": [
    "**Step 6**\n",
    "   - Use mlflow to visualize your experiments.\n",
    "   - In your command line, run ```mlflow ui``` and click on the url to open the UI in your browser."
   ]
  },
  {
   "cell_type": "markdown",
   "metadata": {},
   "source": [
    "**<H2 style=\"text-align:center;\">  Using a Linux GPU Server (optional)</H2>**"
   ]
  },
  {
   "cell_type": "markdown",
   "metadata": {},
   "source": [
    "We will be using an online server as we do not have access to a physical one. To do this, we will need to create an account on ```RunPod```"
   ]
  },
  {
   "cell_type": "markdown",
   "metadata": {},
   "source": [
    "**Step 1**\n",
    "   - Visit https://www.runpod.io/ and create an account. \n"
   ]
  },
  {
   "cell_type": "markdown",
   "metadata": {},
   "source": [
    "**Step 2**\n",
    "   - Setup credentials to access runpod remotely.\n",
    "   1. Create a key pair in a terminal window as follows: ```ssh-keygen -t ed25519```\n",
    "   2. Get your public key (you can use the following command if you used the defaults) ```cat ~/.ssh/id_ed25519.pub``` for windows or ```type %USERPROFILE%\\.ssh\\id_ed25519.pub``` for mac and linux\n",
    "   3. Copy your SSH key to the runpod server. See Image below.\n",
    "      ![Image Description](sshkey.png) "
   ]
  },
  {
   "cell_type": "markdown",
   "metadata": {},
   "source": [
    "**Step 3**\n",
    "   - On runpod, go to ```home -> Gpu-cloud``` and select the cheapest Nvidia machine.\n",
    "   - The default image container is pytorch so leave as it is.\n",
    "   - Check the ```ssh terminal access``` and click deploy.\n",
    "   - Wait a few seconds, click ```connect``` and copy the ```ssh over exposed TCP``` code."
   ]
  },
  {
   "cell_type": "markdown",
   "metadata": {},
   "source": [
    "**Step 4**\n",
    "- On Vscode use ```ctrl + shift + p``` to open the command pallete.\n",
    "- Select ```Remote-SSH``` and then ```add new ssh host```.\n",
    "- Paste the ```ssh over exposed TCP``` code and enter. (You should see a pop up saying 'Host added!').\n",
    "- Type ```ctrl + shift + p``` and add the IP address associated with your TCP code (an example is 69.30.85.70).\n",
    "- Open terminal and clone the Ehealth Git Repo.\n",
    "- You should be able to run your experiments just as you did with your local device."
   ]
  }
 ],
 "metadata": {
  "kernelspec": {
   "display_name": "Python 3",
   "language": "python",
   "name": "python3"
  },
  "language_info": {
   "codemirror_mode": {
    "name": "ipython",
    "version": 3
   },
   "file_extension": ".py",
   "mimetype": "text/x-python",
   "name": "python",
   "nbconvert_exporter": "python",
   "pygments_lexer": "ipython3",
   "version": "3.11.9"
  }
 },
 "nbformat": 4,
 "nbformat_minor": 2
}
